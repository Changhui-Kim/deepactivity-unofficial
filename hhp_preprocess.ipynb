{
 "cells": [
  {
   "cell_type": "code",
   "execution_count": 1,
   "id": "0589e3b0",
   "metadata": {},
   "outputs": [
    {
     "name": "stdout",
     "output_type": "stream",
     "text": [
      "127848 253644\n"
     ]
    }
   ],
   "source": [
    "import pandas as pd\n",
    "OUTPUT_PERSONS_PATH = \"C:/Users/user/PTV_Intern/src/DeepAM/dataset/persons_info.csv\"\n",
    "hh_df = pd.read_csv(\"C:/Users/user/PTV_Intern/data/raw/NHTS_US_2017/hhpub.csv\")\n",
    "per_df = pd.read_csv(\"C:/Users/user/PTV_Intern/data/raw/NHTS_US_2017/perpub.csv\")\n",
    "hh_df = hh_df[hh_df['HHSIZE']<=5]\n",
    "per_df = per_df[per_df['HHSIZE']<=5]\n",
    "print(len(hh_df), len(per_df))"
   ]
  },
  {
   "cell_type": "code",
   "execution_count": 3,
   "id": "a048722d",
   "metadata": {},
   "outputs": [],
   "source": [
    "# --- Attributes of Interestfor each dataframe ---\n",
    "nhts_household_columns = [\n",
    "    'HOUSEID',      # (인덱스용)\n",
    "    'HHFAMINC',     # 1. Household Income\n",
    "    'HHSIZE',       # 2. Household Size\n",
    "    'HHVEHCNT',     # 3. Household Vehicles\n",
    "    'HOMEOWN',      # 4. Home Ownership Status\n",
    "    'STDCNT',       # 5. Household Students (SCHTYP로 계산)\n",
    "    'DRVRCNT',      # 6. Household Licensed Drivers\n",
    "    'LIF_CYC',      # 7. Household Life Cycle Stage\n",
    "    'WRKCOUNT',     # 8. Household Employed Members\n",
    "    'URBRUR',       # 9. Type of Residence (URBAN은 4개 분류, URBRUR은 2개 분류)\n",
    "    'HBRESDN',      # 10. Housing Density\n",
    "    'HBPPOPDN',     # 11. Population Density\n",
    "    'HBHTNRNT',     # 12. Renter-Occupied Housing Ratio\n",
    "    # '',           # (없음) Housing Status\n",
    "]\n",
    "nhts_person_columns = [\n",
    "    'HOUSEID',      # (인덱스용)\n",
    "    'PERSONID',     # (인덱스용)\n",
    "    'DRIVER',       # 1. Driver's License Status\n",
    "    'EDUC',         # 2. Education Level\n",
    "    'OCCAT',        # 3. Job Category\n",
    "    'R_SEX_IMP',    # 4. Gender\n",
    "    'R_AGE_IMP',    # 5. Age\n",
    "    'R_RACE',       # 6. Racial/Ethnic Identity\n",
    "    'PTUSED',       # 7. PTUSED\n",
    "    'R_RELAT',      # 8. Household Role\n",
    "    'GT1JBLWK',     # 9. (Family에선 제외) Number of Jobs\n",
    "    'WORKER',       # 10. Employment Status\n",
    "    'WRK_HOME',     # 11. (Family에선 제외) Employment Location Type\n",
    "    # 'GRADE',        # (없음) Current School Grade Level\n",
    "    # '',             # (없음) Number of Workdays\n",
    "]\n",
    "# Other Household Members Info. 블럭 구성시 필요한 9개 feature\n",
    "family_attributes = [\n",
    "    'HOUSEID',      # (인덱스용)\n",
    "    'PERSONID',     # (인덱스용)\n",
    "    'DRIVER',       # 1. Driver's License Status\n",
    "    'EDUC',         # 2. Education Level\n",
    "    'OCCAT',        # 3. Job Category\n",
    "    'R_SEX_IMP',    # 4. Gender\n",
    "    'R_AGE_IMP',    # 5. Age\n",
    "    'R_RACE',       # 6. Racial/Ethnic Identity\n",
    "    'PTUSED',       # 7. PTUSED\n",
    "    'R_RELAT',      # 8. Household Role\n",
    "    'WORKER',       # 9. Employment Status\n",
    "]"
   ]
  },
  {
   "cell_type": "code",
   "execution_count": 4,
   "id": "1a7d3046",
   "metadata": {},
   "outputs": [
    {
     "name": "stdout",
     "output_type": "stream",
     "text": [
      "13 13\n"
     ]
    },
    {
     "data": {
      "text/plain": [
       "25"
      ]
     },
     "execution_count": 4,
     "metadata": {},
     "output_type": "execute_result"
    }
   ],
   "source": [
    "# Calculate SCHTYP attribute from persons\n",
    "per_df['IS_STUDENT'] = (per_df['SCHTYP'] == 1).astype(int)\n",
    "stdcnt_series = per_df.groupby('HOUSEID')['IS_STUDENT'].sum()\n",
    "hh_df['STDCNT'] = hh_df['HOUSEID'].map(stdcnt_series)\n",
    "\n",
    "# Drop unusing columns\n",
    "hh_df = hh_df[nhts_household_columns]\n",
    "per_df = per_df[nhts_person_columns]\n",
    "\n",
    "print(len(hh_df.columns), len(per_df.columns))\n",
    "combined_df = per_df.merge(hh_df, on='HOUSEID', how='left')\n",
    "len(combined_df.columns)"
   ]
  },
  {
   "cell_type": "code",
   "execution_count": 5,
   "id": "19c1dbea",
   "metadata": {},
   "outputs": [
    {
     "name": "stdout",
     "output_type": "stream",
     "text": [
      "DRIVER: [ 1  2 -1][0 1 2]\n",
      "EDUC: [ 3  2  5  4  1 -1 -8 -7][2 1 4 3 0 5 6]\n",
      "OCCAT: [-1  2  4  3 -9  1 97 -8 -7][5 1 3 2 6 0 4]\n",
      "R_SEX_IMP: [2 1][1 0]\n",
      "R_AGE_IMP: [67 66 28 55 49 45 68 72 82 78 44 40 50 39 38 30 33 75 61 59 22 54 57 25\n",
      " 29  6  5 52 56 86 69 87 31 76 51 17 64 37  7 63 65 24 46 14 23 58 60 73\n",
      " 85 18 19 77 81 47 42 15 13 92 35 62 70 12 36 26 41 16 11 34 48 53 10  8\n",
      " 74 32 20  9 79 43 27 71 21 83 80 84 88][62 61 23 50 44 40 63 67 77 73 39 35 45 34 33 25 28 70 56 54 17 49 52 20\n",
      " 24  1  0 47 51 81 64 82 26 71 46 12 59 32  2 58 60 19 41  9 18 53 55 68\n",
      " 80 13 14 72 76 42 37 10  8 84 30 57 65  7 31 21 36 11  6 29 43 48  5  3\n",
      " 69 27 15  4 74 38 22 66 16 78 75 79 83]\n",
      "R_RACE: [ 2  1  6 97  3  4  5 -7 -8][1 0 5 6 2 3 4 7]\n",
      "PTUSED: [ 0 20  5 22 27  1 21  2 30 10  8  3 18 15 25  6  4 12  7 16 24 17 11 -8\n",
      " -7 28 19 13  9 14 23 26 29 -9][ 0 20  5 22 27  1 21  2 30 10  8  3 18 15 25  6  4 12  7 16 24 17 11 31\n",
      " 28 19 13  9 14 23 26 29]\n",
      "R_RELAT: [ 1  2  3  7  5  4  6 -9 -7 -8][0 1 2 6 4 3 5 7]\n",
      "GT1JBLWK: [-1  2  1 -9 -8 -7][2 1 0 3]\n",
      "WORKER: [ 2  1 -1 -9][1 0 2 3]\n",
      "WRK_HOME: [-1  2  1 -9 -7 -8][2 1 0 3]\n",
      "HHFAMINC: [ 7  8 10  3  5 11  9  4  6  1 -7  2 -8 -9][ 6  7  9  2  4 10  8  3  5  0 11  1]\n",
      "HHSIZE: [3 2 1 4 5][2 1 0 3 4]\n",
      "HHVEHCNT: [ 5  4  2  6  1  3  0  7 12  9  8 10 11][ 5  4  2  6  1  3  0  7 12  9  8 10 11]\n",
      "HOMEOWN: [ 1  2 97 -7 -8][0 1 2 3]\n",
      "STDCNT: [0 2 1 3 4][0 2 1 3 4]\n",
      "DRVRCNT: [3 2 1 0 4 5][3 2 1 0 4 5]\n",
      "LIF_CYC: [10  2  1  4  9  3  8  6  5  7 -9][ 9  1  0  3  8  2  7  5  4  6 10]\n",
      "WRKCOUNT: [1 2 0 3 4 5][1 2 0 3 4 5]\n",
      "URBRUR: [1 2][0 1]\n",
      "HBRESDN: [  300  7000   750  1500    50 17000  3000 30000    -9][2 6 3 4 0 7 5 8 1]\n",
      "HBPPOPDN: [  750   300 17000  1500  3000    50 30000  7000    -9][3 2 7 4 5 0 8 6 1]\n",
      "HBHTNRNT: [20  5 60 50 40 30 70  0 80 90 95 -9][ 2  1  6  5  4  3  7  0  8  9 10 11]\n"
     ]
    }
   ],
   "source": [
    "# Redefine Indice starting from 0 (conventional procedure to make equal interval between codes)\n",
    "att_dict = dict()\n",
    "for col in combined_df.columns:\n",
    "    if col in ['HOUSEID', 'PERSONID']: continue\n",
    "    label_dict = dict()\n",
    "    print(f\"{col}: {combined_df[col].unique()}\", end='')\n",
    "    \n",
    "    # -7이하는 99로 변환, -1은 98로 변환\n",
    "    combined_df[col] = combined_df[col].apply(lambda x: 99 if x<=-7 else x)\n",
    "    combined_df[col] = combined_df[col].apply(lambda x: 98 if x==-1 else x)\n",
    "    \n",
    "    # 오름차순 정렬 => [유효 값, ..., Appropriate skip,결측치] 순으로 정렬됨\n",
    "    unique_vals = sorted(combined_df[col].unique())\n",
    "\n",
    "    # 0부터 시작하는 label로 변환\n",
    "    for new, old in enumerate(unique_vals):\n",
    "        label_dict[old] = new\n",
    "    combined_df[col] = combined_df[col].apply(lambda x: label_dict[x])\n",
    "    print(f\"{combined_df[col].unique()}\")\n",
    "    \n",
    "    # 0-based label => original label 로 복원하기 위한 dictionary\n",
    "    att_dict[col] = dict()\n",
    "    for old in label_dict.keys():\n",
    "        new = label_dict[old]\n",
    "        att_dict[col][new] = old"
   ]
  },
  {
   "cell_type": "code",
   "execution_count": 6,
   "id": "0ef30d56",
   "metadata": {},
   "outputs": [],
   "source": [
    "combined_df.to_csv(OUTPUT_PERSONS_PATH)"
   ]
  },
  {
   "cell_type": "code",
   "execution_count": null,
   "id": "a8bef358",
   "metadata": {},
   "outputs": [],
   "source": [
    "person_df = pd.read_csv('C:/Users/user/PTV_Intern/src/DeepAM/dataset/person_ids.csv', index_col=0)\n",
    "all_person_df = pd.read_csv(OUTPUT_PERSONS_PATH, index_col=0)"
   ]
  },
  {
   "cell_type": "code",
   "execution_count": null,
   "id": "4f59a747",
   "metadata": {},
   "outputs": [],
   "source": []
  }
 ],
 "metadata": {
  "kernelspec": {
   "display_name": "geoenv",
   "language": "python",
   "name": "python3"
  },
  "language_info": {
   "codemirror_mode": {
    "name": "ipython",
    "version": 3
   },
   "file_extension": ".py",
   "mimetype": "text/x-python",
   "name": "python",
   "nbconvert_exporter": "python",
   "pygments_lexer": "ipython3",
   "version": "3.10.18"
  }
 },
 "nbformat": 4,
 "nbformat_minor": 5
}
